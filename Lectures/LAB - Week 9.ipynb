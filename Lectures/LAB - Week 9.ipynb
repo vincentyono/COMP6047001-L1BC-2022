{
 "cells": [
  {
   "cell_type": "markdown",
   "metadata": {},
   "source": [
    "# Week 9 - This week topic is More Object Oriented Programming, Inheritance and Polymorphism"
   ]
  },
  {
   "cell_type": "markdown",
   "metadata": {},
   "source": [
    "### Here are links to some articles about design principles:\n",
    "\n",
    "- [KISS: Keep it Simple, Stupid](https://www.freecodecamp.org/news/keep-it-simple-stupid-how-to-use-the-kiss-principle-in-design/)\n",
    "- [DRY: Don't Repeat Yourself](https://realpython.com/lessons/dry-principle/#:~:text=Idiomatic%20Python%20101&text=The%20DRY%20or%20%E2%80%9CDon't,comparisons%20in%20your%20Python%20code.)"
   ]
  },
  {
   "cell_type": "markdown",
   "metadata": {},
   "source": [
    "### Inheritance"
   ]
  },
  {
   "cell_type": "code",
   "execution_count": 1,
   "metadata": {},
   "outputs": [],
   "source": [
    "class Employee:\n",
    "    def __init__(self, id: int, name: str, salary: float):\n",
    "        self._id = id\n",
    "        self._name = name\n",
    "        self._salary = salary\n",
    "        self._position = \"Employee\"\n",
    "    \n",
    "    def get_id(self) -> str:\n",
    "        return self._id\n",
    "\n",
    "    def get_name(self) -> str:\n",
    "        return self._name\n",
    "\n",
    "    def get_salary(self) -> float:\n",
    "        return self._salary\n",
    "    \n",
    "    def get_position(self) -> str:\n",
    "        return self._position"
   ]
  },
  {
   "cell_type": "code",
   "execution_count": 2,
   "metadata": {},
   "outputs": [],
   "source": [
    "class Manager(Employee):\n",
    "    def __init__(self, id: int, name: str, salary: float):\n",
    "        super().__init__(id, name, salary)\n",
    "        self._salary *= 3\n",
    "        self._position = \"Manager\""
   ]
  },
  {
   "cell_type": "code",
   "execution_count": 3,
   "metadata": {},
   "outputs": [],
   "source": [
    "class CEO(Employee):\n",
    "    def __init__(self, id: int, name: str, salary: float):\n",
    "        super().__init__(id, name, salary)\n",
    "        self._salary *= 5\n",
    "        self._position = \"CEO\""
   ]
  },
  {
   "cell_type": "code",
   "execution_count": 4,
   "metadata": {},
   "outputs": [],
   "source": [
    "employee_base_salary = 1000\n",
    "\n",
    "john = CEO(1, \"John\", employee_base_salary)\n",
    "jane = Manager(2, \"Jane\", employee_base_salary)"
   ]
  },
  {
   "cell_type": "markdown",
   "metadata": {},
   "source": [
    "### Polymorphism"
   ]
  },
  {
   "cell_type": "code",
   "execution_count": 5,
   "metadata": {},
   "outputs": [],
   "source": [
    "def employee_info(employee: Employee) -> None: # as long as the argument inherit from Employee class, it will be a valid argument\n",
    "    print(f\"ID: {employee.get_id()}\\nName: {employee.get_name()}\\nPosition: {employee.get_position()}\\nSalary: {employee.get_salary()}\\n\")"
   ]
  },
  {
   "cell_type": "code",
   "execution_count": 6,
   "metadata": {},
   "outputs": [
    {
     "name": "stdout",
     "output_type": "stream",
     "text": [
      "ID: 1\n",
      "Name: John\n",
      "Position: CEO\n",
      "Salary: 5000\n",
      "\n",
      "ID: 2\n",
      "Name: Jane\n",
      "Position: Manager\n",
      "Salary: 3000\n",
      "\n"
     ]
    }
   ],
   "source": [
    "for employee in [john, jane]:\n",
    "    employee_info(employee)"
   ]
  },
  {
   "cell_type": "markdown",
   "metadata": {},
   "source": [
    "### issubclass"
   ]
  },
  {
   "cell_type": "code",
   "execution_count": 9,
   "metadata": {},
   "outputs": [
    {
     "name": "stdout",
     "output_type": "stream",
     "text": [
      "True\n",
      "True\n"
     ]
    }
   ],
   "source": [
    "print(issubclass(CEO, Employee))\n",
    "print(issubclass(Manager, Employee))"
   ]
  },
  {
   "cell_type": "markdown",
   "metadata": {},
   "source": [
    "### Thank you for reading"
   ]
  }
 ],
 "metadata": {
  "kernelspec": {
   "display_name": "Python 3.10.8 64-bit",
   "language": "python",
   "name": "python3"
  },
  "language_info": {
   "codemirror_mode": {
    "name": "ipython",
    "version": 3
   },
   "file_extension": ".py",
   "mimetype": "text/x-python",
   "name": "python",
   "nbconvert_exporter": "python",
   "pygments_lexer": "ipython3",
   "version": "3.10.8"
  },
  "orig_nbformat": 4,
  "vscode": {
   "interpreter": {
    "hash": "369f2c481f4da34e4445cda3fffd2e751bd1c4d706f27375911949ba6bb62e1c"
   }
  }
 },
 "nbformat": 4,
 "nbformat_minor": 2
}
