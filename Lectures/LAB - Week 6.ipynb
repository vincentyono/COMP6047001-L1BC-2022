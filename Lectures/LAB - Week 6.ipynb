{
 "cells": [
  {
   "cell_type": "markdown",
   "metadata": {},
   "source": [
    "# Week 6: This week topic is Dictionary"
   ]
  },
  {
   "cell_type": "markdown",
   "metadata": {},
   "source": [
    "### Declaring dictionary"
   ]
  },
  {
   "cell_type": "code",
   "execution_count": 1,
   "metadata": {},
   "outputs": [
    {
     "name": "stdout",
     "output_type": "stream",
     "text": [
      "<class 'dict'>\n",
      "<class 'dict'>\n"
     ]
    }
   ],
   "source": [
    "# there are couple of ways to declare dictionary in python\n",
    "\n",
    "d = {} # use curly braces to declare dictionary\n",
    "d2 = dict() # use dict follow by bracket to declare dictionary\n",
    "\n",
    "# both are type dictionary\n",
    "print(type(d))\n",
    "print(type(d2))"
   ]
  },
  {
   "cell_type": "code",
   "execution_count": 2,
   "metadata": {},
   "outputs": [
    {
     "data": {
      "text/plain": [
       "{'title': 'One Piece', 'episode_released': 1037, 'author': 'Eiichiro Oda'}"
      ]
     },
     "execution_count": 2,
     "metadata": {},
     "output_type": "execute_result"
    }
   ],
   "source": [
    "# dictionary are like an object, it can store multiple values with keys\n",
    "\n",
    "one_piece = {\n",
    "    # keys :   values\n",
    "    \"title\": \"One Piece\",\n",
    "    \"episode_released\": 1037,\n",
    "    \"author\": \"Eiichiro Oda\"\n",
    "}\n",
    "\n",
    "# you can store any data type as values\n",
    "# but for keys it need to be Primitive Types (string, integer, float, boolean)\n",
    "\n",
    "one_piece"
   ]
  },
  {
   "cell_type": "markdown",
   "metadata": {},
   "source": [
    "### CRUD - Create, Read, Update, Delete"
   ]
  },
  {
   "cell_type": "markdown",
   "metadata": {},
   "source": [
    "##### Read - Accessing dictionary"
   ]
  },
  {
   "cell_type": "code",
   "execution_count": 3,
   "metadata": {},
   "outputs": [
    {
     "data": {
      "text/plain": [
       "'One Piece'"
      ]
     },
     "execution_count": 3,
     "metadata": {},
     "output_type": "execute_result"
    }
   ],
   "source": [
    "# dictionary can be access like a list, but instead of using the index, it uses keys\n",
    "one_piece[\"title\"]"
   ]
  },
  {
   "cell_type": "code",
   "execution_count": 4,
   "metadata": {},
   "outputs": [
    {
     "data": {
      "text/plain": [
       "'One Piece'"
      ]
     },
     "execution_count": 4,
     "metadata": {},
     "output_type": "execute_result"
    }
   ],
   "source": [
    "one_piece.get(\"title\") # alternatively, get function also returns the value of the specified key"
   ]
  },
  {
   "cell_type": "code",
   "execution_count": 5,
   "metadata": {},
   "outputs": [
    {
     "name": "stdout",
     "output_type": "stream",
     "text": [
      "<class 'dict_keys'>\n",
      "title\n",
      "episode_released\n",
      "author\n"
     ]
    }
   ],
   "source": [
    "# to get list of keys from a dictionary, NOTE: it is not a list type\n",
    "print(type(one_piece.keys())) \n",
    "\n",
    "# although it's not a list type, you can still iterate through it using for loop\n",
    "for key in one_piece.keys():\n",
    "    print(key)"
   ]
  },
  {
   "cell_type": "code",
   "execution_count": 6,
   "metadata": {},
   "outputs": [
    {
     "name": "stdout",
     "output_type": "stream",
     "text": [
      "<class 'dict_values'>\n",
      "One Piece\n",
      "1037\n",
      "Eiichiro Oda\n"
     ]
    }
   ],
   "source": [
    "# to get list of values from a dictionary, NOTE: it is not a list type\n",
    "print(type(one_piece.values()))\n",
    "\n",
    "# although it's not a list type, you can still iterate through it using for loop\n",
    "for value in one_piece.values():\n",
    "    print(value)"
   ]
  },
  {
   "cell_type": "code",
   "execution_count": 7,
   "metadata": {},
   "outputs": [
    {
     "name": "stdout",
     "output_type": "stream",
     "text": [
      "<class 'dict_items'>\n",
      "('title', 'One Piece')\n",
      "('episode_released', 1037)\n",
      "('author', 'Eiichiro Oda')\n"
     ]
    }
   ],
   "source": [
    "# to get list of values from a dictionary, NOTE: it is not a list type\n",
    "print(type(one_piece.items()))\n",
    "\n",
    "# although it's not a list type, you can still iterate through it using for loop\n",
    "for item in one_piece.items():\n",
    "    print(item) # item is type tuple"
   ]
  },
  {
   "cell_type": "code",
   "execution_count": 8,
   "metadata": {},
   "outputs": [
    {
     "name": "stdout",
     "output_type": "stream",
     "text": [
      "['title', 'episode_released', 'author']\n",
      "['One Piece', 1037, 'Eiichiro Oda']\n",
      "[('title', 'One Piece'), ('episode_released', 1037), ('author', 'Eiichiro Oda')]\n"
     ]
    }
   ],
   "source": [
    "# it can also be converted into list\n",
    "\n",
    "print(list(one_piece.keys()))\n",
    "print(list(one_piece.values()))\n",
    "print(list(one_piece.items()))"
   ]
  },
  {
   "cell_type": "markdown",
   "metadata": {},
   "source": [
    "##### Create - Add new keys or values to Dictionary"
   ]
  },
  {
   "cell_type": "code",
   "execution_count": 9,
   "metadata": {},
   "outputs": [
    {
     "data": {
      "text/plain": [
       "{'title': 'One Piece',\n",
       " 'episode_released': 1037,\n",
       " 'author': 'Eiichiro Oda',\n",
       " 'first_aired': 2000}"
      ]
     },
     "execution_count": 9,
     "metadata": {},
     "output_type": "execute_result"
    }
   ],
   "source": [
    "# if a key isn't exist, update function add it to the dictionary\n",
    "one_piece.update({\"first_aired\": 2000})\n",
    "\n",
    "one_piece # now it has \"first_aired\": 2000"
   ]
  },
  {
   "cell_type": "code",
   "execution_count": 10,
   "metadata": {},
   "outputs": [
    {
     "data": {
      "text/plain": [
       "{'title': 'One Piece',\n",
       " 'episode_released': 1037,\n",
       " 'author': 'Eiichiro Oda',\n",
       " 'first_aired': 2000,\n",
       " 'rating': 8.9}"
      ]
     },
     "execution_count": 10,
     "metadata": {},
     "output_type": "execute_result"
    }
   ],
   "source": [
    "# set default insert the key if it doesn't exist\n",
    "# if it does exist it return the value\n",
    "one_piece.setdefault(\"rating\", 8.9) # because it doesn't exist rating get added with the value 8.9\n",
    "\n",
    "one_piece"
   ]
  },
  {
   "cell_type": "code",
   "execution_count": 11,
   "metadata": {},
   "outputs": [
    {
     "data": {
      "text/plain": [
       "8.9"
      ]
     },
     "execution_count": 11,
     "metadata": {},
     "output_type": "execute_result"
    }
   ],
   "source": [
    "one_piece.setdefault(\"rating\", 10) # if it does exist, it return the value"
   ]
  },
  {
   "cell_type": "markdown",
   "metadata": {},
   "source": [
    "##### Update"
   ]
  },
  {
   "cell_type": "code",
   "execution_count": 12,
   "metadata": {},
   "outputs": [
    {
     "data": {
      "text/plain": [
       "{'title': 'One Piece',\n",
       " 'episode_released': 1037,\n",
       " 'author': 'Eiichiro Oda',\n",
       " 'first_aired': 1999,\n",
       " 'rating': 8.9}"
      ]
     },
     "execution_count": 12,
     "metadata": {},
     "output_type": "execute_result"
    }
   ],
   "source": [
    "# if a key exist, update function update the value of the specified key\n",
    "one_piece.update({\"first_aired\": 1999})\n",
    "\n",
    "one_piece # now it has \"first_aired\": 1999"
   ]
  },
  {
   "cell_type": "markdown",
   "metadata": {},
   "source": [
    "##### Delete"
   ]
  },
  {
   "cell_type": "code",
   "execution_count": 13,
   "metadata": {},
   "outputs": [
    {
     "data": {
      "text/plain": [
       "{'title': 'One Piece',\n",
       " 'episode_released': 1037,\n",
       " 'author': 'Eiichiro Oda',\n",
       " 'first_aired': 1999}"
      ]
     },
     "execution_count": 13,
     "metadata": {},
     "output_type": "execute_result"
    }
   ],
   "source": [
    "one_piece.pop(\"rating\") # removes the element with the specified key\n",
    "\n",
    "one_piece # now there is no rating"
   ]
  },
  {
   "cell_type": "code",
   "execution_count": 14,
   "metadata": {},
   "outputs": [
    {
     "data": {
      "text/plain": [
       "{'title': 'One Piece', 'episode_released': 1037, 'author': 'Eiichiro Oda'}"
      ]
     },
     "execution_count": 14,
     "metadata": {},
     "output_type": "execute_result"
    }
   ],
   "source": [
    "one_piece.popitem() # popitem remove the last inserted key-value pair\n",
    "\n",
    "one_piece # now first_aired is removed"
   ]
  },
  {
   "cell_type": "markdown",
   "metadata": {},
   "source": [
    "### More Dictionary function/methods: https://www.w3schools.com/python/python_dictionaries_methods.asp"
   ]
  },
  {
   "cell_type": "markdown",
   "metadata": {},
   "source": [
    "### Thank you for reading"
   ]
  }
 ],
 "metadata": {
  "kernelspec": {
   "display_name": "Python 3.10.8 64-bit",
   "language": "python",
   "name": "python3"
  },
  "language_info": {
   "codemirror_mode": {
    "name": "ipython",
    "version": 3
   },
   "file_extension": ".py",
   "mimetype": "text/x-python",
   "name": "python",
   "nbconvert_exporter": "python",
   "pygments_lexer": "ipython3",
   "version": "3.10.8"
  },
  "orig_nbformat": 4,
  "vscode": {
   "interpreter": {
    "hash": "369f2c481f4da34e4445cda3fffd2e751bd1c4d706f27375911949ba6bb62e1c"
   }
  }
 },
 "nbformat": 4,
 "nbformat_minor": 2
}
