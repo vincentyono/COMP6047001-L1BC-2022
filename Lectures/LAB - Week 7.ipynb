{
 "cells": [
  {
   "cell_type": "markdown",
   "metadata": {},
   "source": [
    "# Week 7: This week topic is Introduction to Object Oriented Programming (OOP)"
   ]
  },
  {
   "cell_type": "markdown",
   "metadata": {},
   "source": [
    "##### Object Oriented Programming is a programming paradigm base on the concept of objects, which can contain data and code: data in the form of fields (often known as attributes or properties), and code, in the form of procedures (often known as methods)"
   ]
  },
  {
   "cell_type": "markdown",
   "metadata": {},
   "source": [
    "##### (Optional) Naming Convention for Python: https://realpython.com/python-pep8/ (Scroll down to Naming Style Section)"
   ]
  },
  {
   "cell_type": "code",
   "execution_count": 1,
   "metadata": {},
   "outputs": [
    {
     "name": "stdout",
     "output_type": "stream",
     "text": [
      "<class '__main__.Cat'>\n"
     ]
    }
   ],
   "source": [
    "# A class is similar to a templates for objects\n",
    "\n",
    "class Cat:\n",
    "    pass\n",
    "\n",
    "print(type(Cat()))"
   ]
  },
  {
   "cell_type": "markdown",
   "metadata": {},
   "source": [
    "### Constructor"
   ]
  },
  {
   "cell_type": "code",
   "execution_count": 2,
   "metadata": {},
   "outputs": [
    {
     "name": "stdout",
     "output_type": "stream",
     "text": [
      "Name: Maguro, Color: Red\n",
      "Name: Macha, Color: Green\n"
     ]
    }
   ],
   "source": [
    "class Cat:\n",
    "    # This is the constructor methods\n",
    "    # It will be run every instantiation\n",
    "    def __init__(self, name: str, color: str): # every methods in class require self as parameter\n",
    "        self.name = name    # declaring self.name to give Cat a name attribute\n",
    "        self.color = color  # declaring self.color to give Cat a color attribute\n",
    "\n",
    "# Instantiate Cat and assign it to a variable\n",
    "maguro = Cat(\"Maguro\", \"Red\")\n",
    "macha = Cat(\"Macha\", \"Green\")\n",
    "\n",
    "# because cat class has name and color attribute, it can be used here\n",
    "print(f\"Name: {maguro.name}, Color: {maguro.color}\")\n",
    "print(f\"Name: {macha.name}, Color: {macha.color}\")"
   ]
  },
  {
   "cell_type": "markdown",
   "metadata": {},
   "source": [
    "### Public and Private Attribute"
   ]
  },
  {
   "cell_type": "code",
   "execution_count": 3,
   "metadata": {},
   "outputs": [
    {
     "name": "stdout",
     "output_type": "stream",
     "text": [
      "Name: Tom, Color: Gray\n"
     ]
    }
   ],
   "source": [
    "# maguro has two public attribute (name and color)\n",
    "\n",
    "# if it is a public attribute, it can be access and modify outside the class\n",
    "maguro.name = \"Tom\"\n",
    "maguro.color = \"Gray\"\n",
    "\n",
    "print(f\"Name: {maguro.name}, Color: {maguro.color}\")"
   ]
  },
  {
   "cell_type": "code",
   "execution_count": 4,
   "metadata": {},
   "outputs": [
    {
     "ename": "AttributeError",
     "evalue": "'Cat' object has no attribute '__name'",
     "output_type": "error",
     "traceback": [
      "\u001b[0;31m---------------------------------------------------------------------------\u001b[0m",
      "\u001b[0;31mAttributeError\u001b[0m                            Traceback (most recent call last)",
      "\u001b[1;32m/home/vin/Dropbox/COMP6047001-L1BC-2022/Lectures/LAB - Week 7.ipynb Cell 9\u001b[0m in \u001b[0;36m<cell line: 9>\u001b[0;34m()\u001b[0m\n\u001b[1;32m      <a href='vscode-notebook-cell:/home/vin/Dropbox/COMP6047001-L1BC-2022/Lectures/LAB%20-%20Week%207.ipynb#X11sZmlsZQ%3D%3D?line=5'>6</a>\u001b[0m maguro \u001b[39m=\u001b[39m Cat(\u001b[39m\"\u001b[39m\u001b[39mMaguro\u001b[39m\u001b[39m\"\u001b[39m, \u001b[39m\"\u001b[39m\u001b[39mRed\u001b[39m\u001b[39m\"\u001b[39m)\n\u001b[1;32m      <a href='vscode-notebook-cell:/home/vin/Dropbox/COMP6047001-L1BC-2022/Lectures/LAB%20-%20Week%207.ipynb#X11sZmlsZQ%3D%3D?line=6'>7</a>\u001b[0m macha \u001b[39m=\u001b[39m Cat(\u001b[39m\"\u001b[39m\u001b[39mMacha\u001b[39m\u001b[39m\"\u001b[39m, \u001b[39m\"\u001b[39m\u001b[39mGreen\u001b[39m\u001b[39m\"\u001b[39m)\n\u001b[0;32m----> <a href='vscode-notebook-cell:/home/vin/Dropbox/COMP6047001-L1BC-2022/Lectures/LAB%20-%20Week%207.ipynb#X11sZmlsZQ%3D%3D?line=8'>9</a>\u001b[0m \u001b[39mprint\u001b[39m(\u001b[39mf\u001b[39m\u001b[39m\"\u001b[39m\u001b[39mName: \u001b[39m\u001b[39m{\u001b[39;00mmaguro\u001b[39m.\u001b[39m__name\u001b[39m}\u001b[39;00m\u001b[39m, Color: \u001b[39m\u001b[39m{\u001b[39;00mmaguro\u001b[39m.\u001b[39m__color\u001b[39m}\u001b[39;00m\u001b[39m\"\u001b[39m)\n",
      "\u001b[0;31mAttributeError\u001b[0m: 'Cat' object has no attribute '__name'"
     ]
    }
   ],
   "source": [
    "class Cat:\n",
    "    def __init__(self, name: str, color: str):\n",
    "        self.__name = name   # This is a private attribute\n",
    "        self.__color = color # This is a private attribute\n",
    "    \n",
    "maguro = Cat(\"Maguro\", \"Red\")\n",
    "macha = Cat(\"Macha\", \"Green\")\n",
    "\n",
    "print(f\"Name: {maguro.__name}, Color: {maguro.__color}\") # You can't access private attribute outside the class"
   ]
  },
  {
   "cell_type": "markdown",
   "metadata": {},
   "source": [
    "### Getter and Setter Functions/Methods"
   ]
  },
  {
   "cell_type": "code",
   "execution_count": 5,
   "metadata": {},
   "outputs": [
    {
     "name": "stdout",
     "output_type": "stream",
     "text": [
      "Name: Maguro, Color: Red\n",
      "Name: Macha, Color: Green\n",
      "Name: Tom, Color: Gray\n",
      "Name: Macha, Color: Green\n"
     ]
    }
   ],
   "source": [
    "class Cat:\n",
    "    def __init__(self, name: str, color: str):\n",
    "        self.__name = name\n",
    "        self.__color = color\n",
    "\n",
    "    # Getter Functions/Methods\n",
    "    def get_name(self):\n",
    "        return self.__name\n",
    "\n",
    "    def get_color(self):\n",
    "        return self.__color\n",
    "\n",
    "    # Setter Functions/Methods\n",
    "    def set_name(self, name: str):\n",
    "        self.__name = name\n",
    "    \n",
    "    def set_color(self, color: str):\n",
    "        self.__color = color\n",
    "\n",
    "maguro = Cat(\"Maguro\", \"Red\")\n",
    "macha = Cat(\"Macha\", \"Green\")\n",
    "\n",
    "# Use getter function to access the value\n",
    "print(f\"Name: {maguro.get_name()}, Color: {maguro.get_color()}\")\n",
    "print(f\"Name: {macha.get_name()}, Color: {macha.get_color()}\")\n",
    "\n",
    "# Use setter function to change the value\n",
    "maguro.set_name(\"Tom\")\n",
    "maguro.set_color(\"Gray\")\n",
    "\n",
    "# Use getter function to access the value\n",
    "print(f\"Name: {maguro.get_name()}, Color: {maguro.get_color()}\") \n",
    "print(f\"Name: {macha.get_name()}, Color: {macha.get_color()}\")"
   ]
  },
  {
   "cell_type": "markdown",
   "metadata": {},
   "source": [
    "### isinstance"
   ]
  },
  {
   "cell_type": "code",
   "execution_count": 6,
   "metadata": {},
   "outputs": [
    {
     "name": "stdout",
     "output_type": "stream",
     "text": [
      "True\n",
      "False\n",
      "False\n",
      "True\n"
     ]
    }
   ],
   "source": [
    "print(isinstance(maguro, Cat)) # check if maguro is an instance of Cat class, Output: True\n",
    "print(isinstance(maguro, str)) # check if maguro is an instance of str class, Output: True\n",
    "print(isinstance(maguro, (list, str, int, float))) # check if maguro is an instance of list, str, int or float, Output: False\n",
    "print(isinstance(maguro, (list, str, int, float, Cat))) # check if maguro is an instance of list, str, int, float or Cat, Output: True"
   ]
  },
  {
   "cell_type": "markdown",
   "metadata": {},
   "source": [
    "### Thank you for reading"
   ]
  }
 ],
 "metadata": {
  "kernelspec": {
   "display_name": "Python 3.10.8 64-bit",
   "language": "python",
   "name": "python3"
  },
  "language_info": {
   "codemirror_mode": {
    "name": "ipython",
    "version": 3
   },
   "file_extension": ".py",
   "mimetype": "text/x-python",
   "name": "python",
   "nbconvert_exporter": "python",
   "pygments_lexer": "ipython3",
   "version": "3.10.8"
  },
  "orig_nbformat": 4,
  "vscode": {
   "interpreter": {
    "hash": "369f2c481f4da34e4445cda3fffd2e751bd1c4d706f27375911949ba6bb62e1c"
   }
  }
 },
 "nbformat": 4,
 "nbformat_minor": 2
}
