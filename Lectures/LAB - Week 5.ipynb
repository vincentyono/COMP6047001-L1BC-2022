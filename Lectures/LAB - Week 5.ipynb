{
 "cells": [
  {
   "cell_type": "markdown",
   "metadata": {},
   "source": [
    "# Week 5: This week Topic is Function"
   ]
  },
  {
   "cell_type": "code",
   "execution_count": 1,
   "metadata": {},
   "outputs": [
    {
     "name": "stdout",
     "output_type": "stream",
     "text": [
      "boil water\n",
      "prepare the cup\n",
      "put tea bag in the cup\n",
      "put boiling water in the cup\n",
      "wait couple of minutes\n",
      "serve\n"
     ]
    }
   ],
   "source": [
    "# Imagine a function as an instruction, For example: Making Tea\n",
    "# \n",
    "# There are couple of steps to make a cup of tea\n",
    "# 1. first you need to boil water\n",
    "# 2. prepare the cup\n",
    "# 3. put tea bag in the cup\n",
    "# 4. put boiling water in the cup\n",
    "# 5. wait for couple of minutes\n",
    "# 6. serve\n",
    "\n",
    "# but if you make a function make_tea, you just need to tell python to make tea\n",
    "\n",
    "def make_tea():\n",
    "    print(\"boil water\")\n",
    "    print(\"prepare the cup\")\n",
    "    print(\"put tea bag in the cup\")\n",
    "    print(\"put boiling water in the cup\")\n",
    "    print(\"wait couple of minutes\")\n",
    "    print(\"serve\")\n",
    "\n",
    "# if you call make_tea function, it will perform all the steps\n",
    "make_tea()\n"
   ]
  },
  {
   "cell_type": "markdown",
   "metadata": {},
   "source": [
    "### Scope"
   ]
  },
  {
   "cell_type": "markdown",
   "metadata": {},
   "source": [
    "##### msg is not defined outside hello_world function"
   ]
  },
  {
   "cell_type": "code",
   "execution_count": 2,
   "metadata": {},
   "outputs": [
    {
     "ename": "NameError",
     "evalue": "name 'msg' is not defined",
     "output_type": "error",
     "traceback": [
      "\u001b[1;31m---------------------------------------------------------------------------\u001b[0m",
      "\u001b[1;31mNameError\u001b[0m                                 Traceback (most recent call last)",
      "\u001b[1;32mc:\\Users\\Vincent\\Dropbox\\Algorithm and Programming - LAB\\Lectures\\LAB - Week 5.ipynb Cell 5\u001b[0m in \u001b[0;36m<module>\u001b[1;34m\u001b[0m\n\u001b[0;32m      <a href='vscode-notebook-cell:/c%3A/Users/Vincent/Dropbox/Algorithm%20and%20Programming%20-%20LAB/Lectures/LAB%20-%20Week%205.ipynb#W4sZmlsZQ%3D%3D?line=1'>2</a>\u001b[0m     msg \u001b[39m=\u001b[39m \u001b[39m\"\u001b[39m\u001b[39mHello World!\u001b[39m\u001b[39m\"\u001b[39m \u001b[39m# although it was declare in the function, outside the function it is not defined\u001b[39;00m\n\u001b[0;32m      <a href='vscode-notebook-cell:/c%3A/Users/Vincent/Dropbox/Algorithm%20and%20Programming%20-%20LAB/Lectures/LAB%20-%20Week%205.ipynb#W4sZmlsZQ%3D%3D?line=3'>4</a>\u001b[0m hello_world() \u001b[39m# calling hello_world function\u001b[39;00m\n\u001b[1;32m----> <a href='vscode-notebook-cell:/c%3A/Users/Vincent/Dropbox/Algorithm%20and%20Programming%20-%20LAB/Lectures/LAB%20-%20Week%205.ipynb#W4sZmlsZQ%3D%3D?line=4'>5</a>\u001b[0m msg\n",
      "\u001b[1;31mNameError\u001b[0m: name 'msg' is not defined"
     ]
    }
   ],
   "source": [
    "def hello_world():\n",
    "    msg = \"Hello World!\" # although it was declare in the function, outside the function it is not defined\n",
    "\n",
    "hello_world() # calling hello_world function\n",
    "msg # msg is not defined"
   ]
  },
  {
   "cell_type": "markdown",
   "metadata": {},
   "source": [
    "##### by declaring msg as global variable, it can be accessed outside hello_function function"
   ]
  },
  {
   "cell_type": "code",
   "execution_count": 3,
   "metadata": {},
   "outputs": [
    {
     "data": {
      "text/plain": [
       "'Hello function!'"
      ]
     },
     "execution_count": 3,
     "metadata": {},
     "output_type": "execute_result"
    }
   ],
   "source": [
    "def hello_function():\n",
    "    global msg # declaring msg as a global variable so it can be accessed outside the function\n",
    "    msg = \"Hello function!\"\n",
    "\n",
    "hello_function() # calling hello_function function\n",
    "\n",
    "msg # output: 'hello function'"
   ]
  },
  {
   "cell_type": "markdown",
   "metadata": {},
   "source": [
    "### Return type"
   ]
  },
  {
   "cell_type": "markdown",
   "metadata": {},
   "source": [
    "##### return integer type"
   ]
  },
  {
   "cell_type": "code",
   "execution_count": 4,
   "metadata": {},
   "outputs": [
    {
     "name": "stdout",
     "output_type": "stream",
     "text": [
      "12\n"
     ]
    }
   ],
   "source": [
    "# the type for the parameter and output are optional\n",
    "# even if you specify the type, then you call the function and gave it different type, \n",
    "# python won't give you an error\n",
    "\n",
    "def addition(a: int, b: int) -> int: # takes 2 argument of type int and output int\n",
    "    return a + b # use return so you can assign it to a variable\n",
    "\n",
    "v = addition(1, 11) # assign v as 12, since 1 + 11 is 12\n",
    "\n",
    "print(v) # print 12"
   ]
  },
  {
   "cell_type": "markdown",
   "metadata": {},
   "source": [
    "##### return string type"
   ]
  },
  {
   "cell_type": "code",
   "execution_count": 5,
   "metadata": {},
   "outputs": [
    {
     "name": "stdout",
     "output_type": "stream",
     "text": [
      "Hello, John\n"
     ]
    }
   ],
   "source": [
    "def greet(name: str) -> str: # take 1 argument of string type and output string type\n",
    "    return f\"Hello, {name}\" # return a string type\n",
    "\n",
    "v = greet(\"John\") # assign v to \"Hello, John\"\n",
    "\n",
    "print(v) # print \"Hello, John\""
   ]
  },
  {
   "cell_type": "markdown",
   "metadata": {},
   "source": [
    "##### return boolean"
   ]
  },
  {
   "cell_type": "code",
   "execution_count": 6,
   "metadata": {},
   "outputs": [
    {
     "name": "stdout",
     "output_type": "stream",
     "text": [
      "True\n"
     ]
    }
   ],
   "source": [
    "def iseven(n: int) -> bool: # take 1 argument of type int and output boolean type\n",
    "    return n % 2 == 0 # return a boolean type\n",
    "\n",
    "v = iseven(2) # assign v to True, since 2 is an even number\n",
    "\n",
    "print(v) #print True"
   ]
  },
  {
   "cell_type": "markdown",
   "metadata": {},
   "source": [
    "##### return none, it returns nothing"
   ]
  },
  {
   "cell_type": "code",
   "execution_count": 7,
   "metadata": {},
   "outputs": [
    {
     "name": "stdout",
     "output_type": "stream",
     "text": [
      "Hello World!\n",
      "None\n"
     ]
    }
   ],
   "source": [
    "def print_message(msg: str) -> None:\n",
    "    print(msg) # because it doesn't use return, the output will be None type\n",
    "               # but it will still print to console because we use print function\n",
    "                                   \n",
    "v = print_message(\"Hello World!\") # while calling the function it print the message  \n",
    "\n",
    "print(v) # print None"
   ]
  },
  {
   "cell_type": "markdown",
   "metadata": {},
   "source": [
    "### Passing function as parameter"
   ]
  },
  {
   "cell_type": "code",
   "execution_count": 8,
   "metadata": {},
   "outputs": [
    {
     "name": "stdout",
     "output_type": "stream",
     "text": [
      "Hello, John Doe\n",
      "Hello, Vincent\n"
     ]
    }
   ],
   "source": [
    "def greet(name = \"John Doe\"): # by specifying the parameter, it will be the default value if there are no arguments given \n",
    "    return f\"Hello, {name}\"\n",
    "\n",
    "print(greet()) # no arguments given, output: Hello, John Doe\n",
    "print(greet(\"Vincent\")) # but if there is an argument given, it will overwrite the default value"
   ]
  },
  {
   "cell_type": "code",
   "execution_count": 9,
   "metadata": {},
   "outputs": [
    {
     "name": "stdout",
     "output_type": "stream",
     "text": [
      "A cup of 2 with 1 teaspoon of sugar\n",
      "A cup of earl grey with 2 teaspoon of sugar\n"
     ]
    }
   ],
   "source": [
    "# make_tea have two optional parameter, tea and sugar\n",
    "def make_tea(tea: str = \"earl grey\", sugar: int = 1):\n",
    "    return f\"A cup of {tea} with {sugar} teaspoon of sugar\"\n",
    "\n",
    "print(make_tea(2)) # if you do this, python would think, the argument is for tea\n",
    "print(make_tea(sugar = 2)) # if you only want to input the second parameter and leave the first as default, you need to specify the parameter"
   ]
  },
  {
   "cell_type": "markdown",
   "metadata": {},
   "source": [
    "### Thank you for reading"
   ]
  }
 ],
 "metadata": {
  "kernelspec": {
   "display_name": "Python 3.10.8 64-bit",
   "language": "python",
   "name": "python3"
  },
  "language_info": {
   "codemirror_mode": {
    "name": "ipython",
    "version": 3
   },
   "file_extension": ".py",
   "mimetype": "text/x-python",
   "name": "python",
   "nbconvert_exporter": "python",
   "pygments_lexer": "ipython3",
   "version": "3.10.8"
  },
  "orig_nbformat": 4,
  "vscode": {
   "interpreter": {
    "hash": "369f2c481f4da34e4445cda3fffd2e751bd1c4d706f27375911949ba6bb62e1c"
   }
  }
 },
 "nbformat": 4,
 "nbformat_minor": 2
}
