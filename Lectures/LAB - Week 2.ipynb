{
 "cells": [
  {
   "cell_type": "markdown",
   "metadata": {},
   "source": [
    "# Week 2: This week topic are Primitive data types, Basic I/O functions, Arithmetic, Conditional and Relational operators"
   ]
  },
  {
   "cell_type": "markdown",
   "metadata": {},
   "source": [
    "### Basic I/O functions"
   ]
  },
  {
   "cell_type": "markdown",
   "metadata": {},
   "source": [
    "##### print function"
   ]
  },
  {
   "cell_type": "code",
   "execution_count": 1,
   "metadata": {},
   "outputs": [
    {
     "name": "stdout",
     "output_type": "stream",
     "text": [
      "Hello World!\n"
     ]
    }
   ],
   "source": [
    "print(\"Hello World!\") # print function print string types to the console"
   ]
  },
  {
   "cell_type": "code",
   "execution_count": 2,
   "metadata": {},
   "outputs": [
    {
     "name": "stdout",
     "output_type": "stream",
     "text": [
      "Hello World! :)Hello World!\n",
      "Hello World!\n"
     ]
    }
   ],
   "source": [
    "# you can modify some default argument in print function\n",
    "# the first default argument is end, it default to \"\\n\" which means new line\n",
    "\n",
    "print(\"Hello World!\", end=\" :)\") # because we don't include new line in the end arguemnt, it will be printed side by side with the second \"Hello World!\"\n",
    "print(\"Hello World!\")            # because this line has the default end arguemnt which is \"\\n\", it will be printed normally\n",
    "print(\"Hello World!\")"
   ]
  },
  {
   "cell_type": "code",
   "execution_count": 3,
   "metadata": {},
   "outputs": [
    {
     "name": "stdout",
     "output_type": "stream",
     "text": [
      "Hello World !\n"
     ]
    }
   ],
   "source": [
    "# the second default argument is sep, it's short for separator, it default to \" \"\n",
    "\n",
    "print(\"Hello\", \"World\", \"!\") # the three string is seperated by spaces"
   ]
  },
  {
   "cell_type": "code",
   "execution_count": 4,
   "metadata": {},
   "outputs": [
    {
     "name": "stdout",
     "output_type": "stream",
     "text": [
      "Hello~World~!\n"
     ]
    }
   ],
   "source": [
    "# let's change sep argument to \"~\"\n",
    "\n",
    "print(\"Hello\", \"World\", \"!\", sep=\"~\") # Now every string is separated by \"~\" "
   ]
  },
  {
   "cell_type": "markdown",
   "metadata": {},
   "source": [
    "##### Input function"
   ]
  },
  {
   "cell_type": "code",
   "execution_count": 5,
   "metadata": {},
   "outputs": [
    {
     "name": "stdout",
     "output_type": "stream",
     "text": [
      "<class 'str'>\n"
     ]
    }
   ],
   "source": [
    "# input function prompt user for input\n",
    "# it will be stored as string type\n",
    "\n",
    "name = input(\"Please enter your name: \")\n",
    "\n",
    "print(type(name))"
   ]
  },
  {
   "cell_type": "markdown",
   "metadata": {},
   "source": [
    "### Primitive Data Types"
   ]
  },
  {
   "cell_type": "markdown",
   "metadata": {},
   "source": [
    "##### String"
   ]
  },
  {
   "cell_type": "code",
   "execution_count": 6,
   "metadata": {},
   "outputs": [
    {
     "data": {
      "text/plain": [
       "'Hello World'"
      ]
     },
     "execution_count": 6,
     "metadata": {},
     "output_type": "execute_result"
    }
   ],
   "source": [
    "# string is a collection of characters, it should be inside a quote or double quote\n",
    "#\n",
    "# Example\n",
    "\n",
    "\"Hello World\" # this is a string"
   ]
  },
  {
   "cell_type": "code",
   "execution_count": 7,
   "metadata": {},
   "outputs": [
    {
     "data": {
      "text/plain": [
       "'Hello World!'"
      ]
     },
     "execution_count": 7,
     "metadata": {},
     "output_type": "execute_result"
    }
   ],
   "source": [
    "\"Hello\" + \" \" + \"World\" + \"!\" # you can concatenate them together into a single string by using plus sign"
   ]
  },
  {
   "cell_type": "code",
   "execution_count": 8,
   "metadata": {},
   "outputs": [
    {
     "name": "stdout",
     "output_type": "stream",
     "text": [
      "I will not be late\n",
      "I will not be late\n",
      "I will not be late\n",
      "I will not be late\n",
      "I will not be late\n",
      "I will not be late\n",
      "I will not be late\n",
      "I will not be late\n",
      "I will not be late\n",
      "I will not be late\n",
      "\n"
     ]
    }
   ],
   "source": [
    "print(\"I will not be late\\n\" * 10) # in python, you can use star symbol to multiply the string"
   ]
  },
  {
   "cell_type": "markdown",
   "metadata": {},
   "source": [
    "##### String function, here are the list of string function: https://www.w3schools.com/python/python_strings_methods.asp"
   ]
  },
  {
   "cell_type": "code",
   "execution_count": 9,
   "metadata": {},
   "outputs": [
    {
     "data": {
      "text/plain": [
       "'Vincent'"
      ]
     },
     "execution_count": 9,
     "metadata": {},
     "output_type": "execute_result"
    }
   ],
   "source": [
    "first_name = \"vincent\" # it is all lowercase\n",
    "\n",
    "# you can use title() to convert it to title case\n",
    "\n",
    "                   # capitalize() is the same as title()\n",
    "first_name.title() # NOTE: it won't change the original value, so if you print it again without the function it will still be lowercase"
   ]
  },
  {
   "cell_type": "code",
   "execution_count": 10,
   "metadata": {},
   "outputs": [
    {
     "name": "stdout",
     "output_type": "stream",
     "text": [
      "HELLO PYTHON!\n",
      "hello python!\n"
     ]
    }
   ],
   "source": [
    "message = \"Hello Python!\"\n",
    "\n",
    "print(message.upper()) # turn every character into upper case\n",
    "print(message.lower()) # turn every character into lower case"
   ]
  },
  {
   "cell_type": "markdown",
   "metadata": {},
   "source": [
    "##### formatting a string: there are a lot of different formatting options: https://www.w3schools.com/python/ref_string_format.asp"
   ]
  },
  {
   "cell_type": "code",
   "execution_count": 11,
   "metadata": {},
   "outputs": [
    {
     "name": "stdout",
     "output_type": "stream",
     "text": [
      "Vincent Yono\n",
      "Yono Vincent\n",
      "Yono Vincent\n",
      "Vincent Yono\n"
     ]
    }
   ],
   "source": [
    "first_name = \"Vincent\"\n",
    "last_name = \"Yono\"\n",
    "\n",
    "# here are some way to use format function\n",
    "print(\"{} {}\".format(first_name, last_name))\n",
    "print(\"{1} {0}\".format(first_name, last_name)) # putting number in the brackets to order which argument go which brackets\n",
    "print(\"{last} {first}\".format(first = first_name, last = last_name))\n",
    "print(f\"{first_name} {last_name}\") # this is only avaiable for Python 3.6 and later version"
   ]
  },
  {
   "cell_type": "markdown",
   "metadata": {},
   "source": [
    "##### formatting number: there are many other formatting types (Please visit the link to learn more)"
   ]
  },
  {
   "cell_type": "code",
   "execution_count": 12,
   "metadata": {},
   "outputs": [
    {
     "name": "stdout",
     "output_type": "stream",
     "text": [
      "1,000\n",
      "1,000\n"
     ]
    }
   ],
   "source": [
    "# thousand separator\n",
    "print(\"{:,}\".format(1000))\n",
    "print(f\"{1000:,}\")"
   ]
  },
  {
   "cell_type": "code",
   "execution_count": 13,
   "metadata": {},
   "outputs": [
    {
     "name": "stdout",
     "output_type": "stream",
     "text": [
      "10.00\n",
      "10.00\n"
     ]
    }
   ],
   "source": [
    "# decimal point\n",
    "print(\"{:.2f}\".format(10))\n",
    "print(f\"{10:.2f}\")"
   ]
  },
  {
   "cell_type": "code",
   "execution_count": 14,
   "metadata": {},
   "outputs": [
    {
     "name": "stdout",
     "output_type": "stream",
     "text": [
      "Hello\n",
      "World!\n",
      "Hello\tWorld!\n",
      "\\\n",
      "\"\n",
      "this is a double quote \"\n",
      "this is a single quote '\n"
     ]
    }
   ],
   "source": [
    "# there are some special characters for string type\n",
    "\n",
    "print(\"Hello\\nWorld!\") # \"\\n\" == new line\n",
    "print(\"Hello\\tWorld!\") # \"\\t\" == tab\n",
    "\n",
    "# to use backslash in string you need to put double backslashes (the first one to signal to python that the next character is a special character)\n",
    "print(\"\\\\\") # this will output \"\\\"\n",
    "print(\"\\\"\") # you can also input double quote inside a string by using backslashes\n",
    "\n",
    "# another way to use double quote inside a string is to use single quotes\n",
    "print('this is a double quote \"')\n",
    "\n",
    "# you can do it the other way as well\n",
    "print(\"this is a single quote '\")"
   ]
  },
  {
   "cell_type": "markdown",
   "metadata": {},
   "source": [
    "##### Integer and Float"
   ]
  },
  {
   "cell_type": "code",
   "execution_count": 15,
   "metadata": {},
   "outputs": [
    {
     "name": "stdout",
     "output_type": "stream",
     "text": [
      "<class 'int'>\n",
      "<class 'float'>\n"
     ]
    }
   ],
   "source": [
    "i = 7 # this is an integer type, it doesn't have decimal point\n",
    "f = 7.0 # this is a float type, it always has a decimal point\n",
    "\n",
    "print(type(i)) # i is an int type\n",
    "print(type(f)) # f is a float type"
   ]
  },
  {
   "cell_type": "markdown",
   "metadata": {},
   "source": [
    "##### Arithmetic"
   ]
  },
  {
   "cell_type": "code",
   "execution_count": 16,
   "metadata": {},
   "outputs": [
    {
     "name": "stdout",
     "output_type": "stream",
     "text": [
      "2\n",
      "0\n",
      "1.0\n",
      "1\n",
      "3\n",
      "0\n",
      "1\n",
      "8\n"
     ]
    }
   ],
   "source": [
    "# python follow Order of operations such as BEDMAS, BIDMAS, BOMDAS, BODMAS, PEDMAS (not sure about the previous version, but Python version 3.10.8 do)\n",
    "print(1 + 1) # addition output 2\n",
    "print(1 - 1) # substraction output 0\n",
    "print(1 / 1) # division output 1.0 (turn into float type)\n",
    "print(3 // 2) # floor division output 1 (stays as an int, but it round down the result)\n",
    "print(1 * 3) # multiplication output 3\n",
    "print(1 % 1) # modulus output 0\n",
    "print(1 ** 3) # exponent output 1 (1 to the power of 3)\n",
    "\n",
    "print(8 * 3 // 3) # because it follows Order of operation it is the same as [8 * (3 // 3) = 8]"
   ]
  },
  {
   "cell_type": "code",
   "execution_count": 17,
   "metadata": {},
   "outputs": [
    {
     "name": "stdout",
     "output_type": "stream",
     "text": [
      "1.0\n"
     ]
    }
   ],
   "source": [
    "# arithmetic with variables\n",
    "n = 0\n",
    "\n",
    "n += 1 # similar to (n = n + 1) it increment n by 1 (n should be equal to 1)\n",
    "n -= 2 # similar to (n = n - 2) it decrement n by 2 (n should be equal to -1)\n",
    "n *= -1 # similar to (n = n * -1) it multiply n by -1 (n should be equal to 1)\n",
    "n //= 1 # similar to (n = n // 1) it divide n by 1 (n should be equal to 1, if you use floor division on float type, it doesn't turn it into an int, but still round down the result)\n",
    "n /= 1 # similar to (n = n / 1) it divide n by 1 (n should be equal to 1.0, this turn n into a float type)\n",
    "n **= 1 # similar to (n = n ** 1) it power n by 1 (n should be equal to 1)\n",
    "# n %= 1 # similar to (n = n % 1) it take the remainder of n % 1 and assign it to n (n should be equal to 0)\n",
    "\n",
    "print(n) # it is a float type"
   ]
  },
  {
   "cell_type": "markdown",
   "metadata": {},
   "source": [
    "##### Boolean"
   ]
  },
  {
   "cell_type": "code",
   "execution_count": 18,
   "metadata": {},
   "outputs": [
    {
     "name": "stdout",
     "output_type": "stream",
     "text": [
      "<class 'bool'>\n",
      "<class 'bool'>\n"
     ]
    }
   ],
   "source": [
    "# boolean has two possible state True and False\n",
    "\n",
    "print(type(True))\n",
    "print(type(False))\n"
   ]
  },
  {
   "cell_type": "code",
   "execution_count": 19,
   "metadata": {},
   "outputs": [
    {
     "name": "stdout",
     "output_type": "stream",
     "text": [
      "False\n",
      "True\n",
      "True\n",
      "False\n"
     ]
    }
   ],
   "source": [
    "# Relational Operator\n",
    "\n",
    "print(5 > 10) # output False, since 5 is not greater than 10\n",
    "print(5 < 10) # output True, since 5 is less than 10\n",
    "print(1 >= -1) # output True, since 1 is greater than or equal to -1\n",
    "print(1 <= -1) # output False, since 1 is not less than or equal to -1"
   ]
  },
  {
   "cell_type": "code",
   "execution_count": 20,
   "metadata": {},
   "outputs": [
    {
     "name": "stdout",
     "output_type": "stream",
     "text": [
      "True\n",
      "True\n",
      "True\n"
     ]
    }
   ],
   "source": [
    "# Relational Operator can also be chained together\n",
    "\n",
    "print(1 < 2 < 3) # output True, since 1 is less than 2 and 2 is less than 3\n",
    "print(1 < 2 and 2 < 3) # output True, this statement is equivalent to the statement above\n",
    "\n",
    "print(5 > 1 or 2 < 1) # output True, since 5 is greater than 1 is True, using or if at least 1 relation is True the output is True"
   ]
  },
  {
   "cell_type": "markdown",
   "metadata": {},
   "source": [
    "##### and\n",
    "||True|False|\n",
    "|---|---|---|\n",
    "|**True**|True|False\n",
    "|**False**|False|False"
   ]
  },
  {
   "cell_type": "markdown",
   "metadata": {},
   "source": [
    "##### or\n",
    "||True|False\n",
    "|---|---|---|\n",
    "|**True**|True|True\n",
    "|**False**|True|False"
   ]
  },
  {
   "cell_type": "markdown",
   "metadata": {},
   "source": [
    "### Thank you for reading"
   ]
  }
 ],
 "metadata": {
  "kernelspec": {
   "display_name": "Python 3.10.8 64-bit",
   "language": "python",
   "name": "python3"
  },
  "language_info": {
   "codemirror_mode": {
    "name": "ipython",
    "version": 3
   },
   "file_extension": ".py",
   "mimetype": "text/x-python",
   "name": "python",
   "nbconvert_exporter": "python",
   "pygments_lexer": "ipython3",
   "version": "3.10.8"
  },
  "orig_nbformat": 4,
  "vscode": {
   "interpreter": {
    "hash": "369f2c481f4da34e4445cda3fffd2e751bd1c4d706f27375911949ba6bb62e1c"
   }
  }
 },
 "nbformat": 4,
 "nbformat_minor": 2
}
