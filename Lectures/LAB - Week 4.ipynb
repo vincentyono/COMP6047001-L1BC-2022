{
 "cells": [
  {
   "cell_type": "markdown",
   "metadata": {},
   "source": [
    "# Week 4: 2D Lists, Tuples, Strings, Conditionals, Loops, Slicing and Indexing"
   ]
  },
  {
   "cell_type": "markdown",
   "metadata": {},
   "source": [
    "##### Tuples: Tuples are similar to lists, but you can't modify the element and there are less functions "
   ]
  },
  {
   "cell_type": "code",
   "execution_count": 1,
   "metadata": {},
   "outputs": [
    {
     "name": "stdout",
     "output_type": "stream",
     "text": [
      "<class 'tuple'>\n",
      "<class 'tuple'>\n"
     ]
    }
   ],
   "source": [
    "t = () # empty brackets or brackets with value inside is considered as tuple in python\n",
    "t2 = tuple() # this is another way to declare a tuple\n",
    "\n",
    "print(type(t)) # both are equivalent\n",
    "print(type(t2))"
   ]
  },
  {
   "cell_type": "markdown",
   "metadata": {},
   "source": [
    "##### Indexing tuples: It's similar to lists"
   ]
  },
  {
   "cell_type": "code",
   "execution_count": 2,
   "metadata": {
    "tags": []
   },
   "outputs": [],
   "source": [
    "#               [0]         [1]       [2]     [3]\n",
    "languages = (\"Python\", \"JavaScript\", \"C++\", \"Java\")"
   ]
  },
  {
   "cell_type": "code",
   "execution_count": 3,
   "metadata": {},
   "outputs": [
    {
     "data": {
      "text/plain": [
       "'C++'"
      ]
     },
     "execution_count": 3,
     "metadata": {},
     "output_type": "execute_result"
    }
   ],
   "source": [
    "languages[2]"
   ]
  },
  {
   "cell_type": "markdown",
   "metadata": {},
   "source": [
    "##### 2D Lists: Lists inside a lists"
   ]
  },
  {
   "cell_type": "code",
   "execution_count": 4,
   "metadata": {},
   "outputs": [
    {
     "name": "stdout",
     "output_type": "stream",
     "text": [
      "li = [[1, 2, 3], [4, 5, 6], [7, 8, 9]]\tpretty_li = [[1, 2, 3], [4, 5, 6], [7, 8, 9]]\n"
     ]
    }
   ],
   "source": [
    "#  li and pretty_li are the same, but pretty_li is easier to read\n",
    "\n",
    "li = [[1, 2, 3], [4, 5, 6], [7, 8, 9]]\n",
    "\n",
    "pretty_li = [[1, 2, 3], \n",
    "             [4, 5, 6], \n",
    "             [7, 8, 9]]\n",
    "\n",
    "print(f\"li = {li}\\tpretty_li = {pretty_li}\")"
   ]
  },
  {
   "cell_type": "markdown",
   "metadata": {},
   "source": [
    "##### Indexing 2D Lists: it's the same as to indexing lists inside a lists"
   ]
  },
  {
   "cell_type": "code",
   "execution_count": 5,
   "metadata": {},
   "outputs": [],
   "source": [
    "# the value of this list is the index\n",
    "li = [[\"li[0][0]\", \"li[0][1]\", \"li[0][2]\"], \n",
    "      [\"li[1][0]\", \"li[1][1]\", \"li[1][2]\"], \n",
    "      [\"li[2][0]\", \"li[2][1]\", \"li[2][2]\"]]"
   ]
  },
  {
   "cell_type": "code",
   "execution_count": 6,
   "metadata": {},
   "outputs": [
    {
     "data": {
      "text/plain": [
       "'li[1][0]'"
      ]
     },
     "execution_count": 6,
     "metadata": {},
     "output_type": "execute_result"
    }
   ],
   "source": [
    "# Example: li[1][0] containing the string \"li[1][0]\"\n",
    "li[1][0] "
   ]
  },
  {
   "cell_type": "markdown",
   "metadata": {},
   "source": [
    "##### Destructuring: if you have multiple value in each iteration, you can destructure it"
   ]
  },
  {
   "cell_type": "code",
   "execution_count": 7,
   "metadata": {},
   "outputs": [
    {
     "name": "stdout",
     "output_type": "stream",
     "text": [
      "li[0][0] li[0][1] li[0][2]\n",
      "li[1][0] li[1][1] li[1][2]\n",
      "li[2][0] li[2][1] li[2][2]\n"
     ]
    }
   ],
   "source": [
    "#                0           1           2\n",
    "# li = [#0 [\"li[0][0]\", \"li[0][1]\", \"li[0][2]\"],\n",
    "#       #1 [\"li[1][0]\", \"li[1][1]\", \"li[1][2]\"],\n",
    "#       #2 [\"li[2][0]\", \"li[2][1]\", \"li[2][2]\"]]\n",
    "\n",
    "# because each li[0], li[1], li[2] contain a list with 3 values\n",
    "# you can access each values like the example below\n",
    "for value1, value2, value3 in li:\n",
    "    print(value1, value2, value3) "
   ]
  },
  {
   "cell_type": "markdown",
   "metadata": {},
   "source": [
    "### some functions used in loops to make it more convenient to deal with lists"
   ]
  },
  {
   "cell_type": "markdown",
   "metadata": {},
   "source": [
    "##### enumerate function/method: if you also need the index of the list"
   ]
  },
  {
   "cell_type": "code",
   "execution_count": 8,
   "metadata": {},
   "outputs": [
    {
     "name": "stdout",
     "output_type": "stream",
     "text": [
      "li[0] = ['li[0][0]', 'li[0][1]', 'li[0][2]']\n",
      "li[1] = ['li[1][0]', 'li[1][1]', 'li[1][2]']\n",
      "li[2] = ['li[2][0]', 'li[2][1]', 'li[2][2]']\n"
     ]
    }
   ],
   "source": [
    "for index, value in enumerate(li):\n",
    "    print(f\"li[{index}] = {value}\")"
   ]
  },
  {
   "cell_type": "markdown",
   "metadata": {},
   "source": [
    "##### Loop inside a loop and list inside a list"
   ]
  },
  {
   "cell_type": "code",
   "execution_count": 9,
   "metadata": {},
   "outputs": [
    {
     "name": "stdout",
     "output_type": "stream",
     "text": [
      "-------li[0]-------\n",
      "li[0][0] = li[0][0]\n",
      "li[0][1] = li[0][1]\n",
      "li[0][2] = li[0][2]\n",
      "\n",
      "-------li[1]-------\n",
      "li[1][0] = li[1][0]\n",
      "li[1][1] = li[1][1]\n",
      "li[1][2] = li[1][2]\n",
      "\n",
      "-------li[2]-------\n",
      "li[2][0] = li[2][0]\n",
      "li[2][1] = li[2][1]\n",
      "li[2][2] = li[2][2]\n",
      "\n"
     ]
    }
   ],
   "source": [
    "for i, value in enumerate(li):\n",
    "    print(f\"li[{i}]\".center(19, \"-\"))\n",
    "    for j, value2 in enumerate(li[i]):\n",
    "        print(f\"li[{i}][{j}] = {value2}\")\n",
    "    print()"
   ]
  },
  {
   "cell_type": "markdown",
   "metadata": {},
   "source": [
    "##### Don't worry if it seems confusing, it just need some getting used to"
   ]
  },
  {
   "cell_type": "markdown",
   "metadata": {},
   "source": [
    "##### zip function/method: if you want to iterate multiple lists"
   ]
  },
  {
   "cell_type": "code",
   "execution_count": 10,
   "metadata": {},
   "outputs": [
    {
     "name": "stdout",
     "output_type": "stream",
     "text": [
      "My name is John, and my email address is john@example.com\n",
      "My name is Jane, and my email address is jane@example.com\n",
      "My name is Mary, and my email address is mary@example.com\n",
      "My name is Jack, and my email address is jack@example.com\n",
      "My name is Paul, and my email address is paul@example.com\n",
      "My name is Ashley, and my email address is ashley@example.com\n"
     ]
    }
   ],
   "source": [
    "email_addresses = [\"john@example.com\", \"jane@example.com\", \"mary@example.com\", \"jack@example.com\", \"paul@example.com\", \"ashley@example.com\"]\n",
    "names = [\"John\", \"Jane\", \"Mary\", \"Jack\", \"Paul\", \"Ashley\"]\n",
    "\n",
    "for email, name in zip(email_addresses, names):\n",
    "    print(f\"My name is {name}, and my email address is {email}\")"
   ]
  },
  {
   "cell_type": "markdown",
   "metadata": {},
   "source": [
    "### Slicing"
   ]
  },
  {
   "cell_type": "markdown",
   "metadata": {},
   "source": [
    "##### you can slice a String, Tuples and also Lists"
   ]
  },
  {
   "cell_type": "code",
   "execution_count": 11,
   "metadata": {},
   "outputs": [
    {
     "data": {
      "text/plain": [
       "'Hello'"
      ]
     },
     "execution_count": 11,
     "metadata": {},
     "output_type": "execute_result"
    }
   ],
   "source": [
    "message = \"Hello World!\"\n",
    "message[0:5] # from index 0 to index 4, index 5 is not included"
   ]
  },
  {
   "cell_type": "code",
   "execution_count": 12,
   "metadata": {},
   "outputs": [
    {
     "data": {
      "text/plain": [
       "'World!'"
      ]
     },
     "execution_count": 12,
     "metadata": {},
     "output_type": "execute_result"
    }
   ],
   "source": [
    "message[6:] # from index 6 to the last index"
   ]
  },
  {
   "cell_type": "code",
   "execution_count": 13,
   "metadata": {},
   "outputs": [
    {
     "data": {
      "text/plain": [
       "'Hello'"
      ]
     },
     "execution_count": 13,
     "metadata": {},
     "output_type": "execute_result"
    }
   ],
   "source": [
    "message[:5] # from the first index to the fourth index, index 5 is not included"
   ]
  },
  {
   "cell_type": "markdown",
   "metadata": {},
   "source": [
    "##### Some string functions/methods, some other function is also listed here: https://www.w3schools.com/python/python_strings_methods.asp"
   ]
  },
  {
   "cell_type": "code",
   "execution_count": 14,
   "metadata": {},
   "outputs": [
    {
     "data": {
      "text/plain": [
       "['Roses', 'are', 'red', 'and', 'violet', 'are', 'blue']"
      ]
     },
     "execution_count": 14,
     "metadata": {},
     "output_type": "execute_result"
    }
   ],
   "source": [
    "sentence = \"Roses are red and violet are blue\"\n",
    "\n",
    "sentence.split() # this will split sentence into a list, it separated into words because by default it uses space as separator"
   ]
  },
  {
   "cell_type": "code",
   "execution_count": 15,
   "metadata": {},
   "outputs": [
    {
     "data": {
      "text/plain": [
       "['Hello', ' World!']"
      ]
     },
     "execution_count": 15,
     "metadata": {},
     "output_type": "execute_result"
    }
   ],
   "source": [
    "sentence = \"Hello, World!\"\n",
    "\n",
    "sentence.split(\",\") # if you give an argument, it will split using the argument you gave, in this case \",\" notice there is space infront of the World!"
   ]
  },
  {
   "cell_type": "markdown",
   "metadata": {},
   "source": [
    "##### NOTE: These function returns a string, but won't modify the original string"
   ]
  },
  {
   "cell_type": "code",
   "execution_count": 16,
   "metadata": {},
   "outputs": [
    {
     "data": {
      "text/plain": [
       "'Hello Python!'"
      ]
     },
     "execution_count": 16,
     "metadata": {},
     "output_type": "execute_result"
    }
   ],
   "source": [
    "# message = \"Hello World\" from the cell above\n",
    "message.replace(\"World!\", \"Python!\") # replace World! with Python!\n",
    "\n",
    "# if you print message it will still be \"Hello World!\"\n",
    "# to change it, you need to assign it to message like the code below\n",
    "#\n",
    "# message = message.replace(\"World!\", \"Python!\")"
   ]
  },
  {
   "cell_type": "code",
   "execution_count": 17,
   "metadata": {},
   "outputs": [
    {
     "data": {
      "text/plain": [
       "'~~~~Hello World!~~~~'"
      ]
     },
     "execution_count": 17,
     "metadata": {},
     "output_type": "execute_result"
    }
   ],
   "source": [
    "message.center(20, \"~\") # Note: the width is the length of the string"
   ]
  },
  {
   "cell_type": "code",
   "execution_count": 18,
   "metadata": {},
   "outputs": [
    {
     "data": {
      "text/plain": [
       "'Hello World!'"
      ]
     },
     "execution_count": 18,
     "metadata": {},
     "output_type": "execute_result"
    }
   ],
   "source": [
    "message"
   ]
  },
  {
   "cell_type": "markdown",
   "metadata": {},
   "source": [
    "### Thank you for reading"
   ]
  }
 ],
 "metadata": {
  "kernelspec": {
   "display_name": "Python 3.10.7 64-bit",
   "language": "python",
   "name": "python3"
  },
  "language_info": {
   "codemirror_mode": {
    "name": "ipython",
    "version": 3
   },
   "file_extension": ".py",
   "mimetype": "text/x-python",
   "name": "python",
   "nbconvert_exporter": "python",
   "pygments_lexer": "ipython3",
   "version": "3.10.8"
  },
  "orig_nbformat": 4,
  "vscode": {
   "interpreter": {
    "hash": "369f2c481f4da34e4445cda3fffd2e751bd1c4d706f27375911949ba6bb62e1c"
   }
  }
 },
 "nbformat": 4,
 "nbformat_minor": 2
}
