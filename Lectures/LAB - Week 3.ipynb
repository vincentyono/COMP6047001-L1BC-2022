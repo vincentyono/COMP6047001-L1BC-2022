{
 "cells": [
  {
   "cell_type": "markdown",
   "metadata": {},
   "source": [
    "# Week 3: the topic for this week are introduction to List, Loops and Conditional"
   ]
  },
  {
   "cell_type": "markdown",
   "metadata": {},
   "source": [
    "### List: lists are used to store multiple values in a single variable"
   ]
  },
  {
   "cell_type": "markdown",
   "metadata": {},
   "source": [
    "##### Declaring lists"
   ]
  },
  {
   "cell_type": "code",
   "execution_count": 1,
   "metadata": {},
   "outputs": [
    {
     "name": "stdout",
     "output_type": "stream",
     "text": [
      "option_one's type: <class 'list'>\n",
      "option_two's type: <class 'list'>\n"
     ]
    }
   ],
   "source": [
    "# There are couple ways to declare a list in python\n",
    "\n",
    "option_one = [] # option 1: use square brackets to declare list\n",
    "option_two = list() # option 2: use list() to declare list\n",
    "\n",
    "# both options are the same, so you can pick which one you prefer\n",
    "\n",
    "# both are type list\n",
    "print(f\"option_one's type: {type(option_one)}\")\n",
    "print(f\"option_two's type: {type(option_two)}\")\n",
    "\n",
    "# FYI: you will learn class on later date, for now don't worry about class"
   ]
  },
  {
   "cell_type": "markdown",
   "metadata": {},
   "source": [
    "##### Example of use case of list"
   ]
  },
  {
   "cell_type": "code",
   "execution_count": 2,
   "metadata": {},
   "outputs": [],
   "source": [
    "# Best practice: because the word list is a reserved word in python, it's best not to use list as a variable name\n",
    "\n",
    "# storing all english alphabets\n",
    "alphabets = [\"A\", \"B\", \"C\", \"D\", \"E\", \"F\", \"G\", \"H\", \"I\", \"J\", \"K\", \"L\", \"M\", \"N\", \"O\", \"P\", \"Q\", \"R\", \"S\", \"T\", \"U\", \"V\", \"W\", \"X\", \"Y\", \"Z\"]\n",
    "\n",
    "# storing all bills in currency (in this case: IDR)\n",
    "bills = [100_000, 50_000, 20_000, 10_000, 5_000, 2_000, 1_000, 500, 200, 100]"
   ]
  },
  {
   "cell_type": "markdown",
   "metadata": {},
   "source": [
    "##### Accessing value inside list"
   ]
  },
  {
   "cell_type": "code",
   "execution_count": 3,
   "metadata": {},
   "outputs": [
    {
     "data": {
      "text/plain": [
       "'Cat'"
      ]
     },
     "execution_count": 3,
     "metadata": {},
     "output_type": "execute_result"
    }
   ],
   "source": [
    "# to access the value inside list just type in variable name followed by square brackets with index number inside\n",
    "#          [0]      [1]    [2]    [3]       [4]        [5]\n",
    "words = [\"Apple\", \"Ball\", \"Cat\", \"Dog\", \"Elephant\", \"Flower\"]\n",
    "\n",
    "# Example: words[2]\n",
    "words[2] # output: \"Cat\""
   ]
  },
  {
   "cell_type": "code",
   "execution_count": 4,
   "metadata": {},
   "outputs": [
    {
     "name": "stdout",
     "output_type": "stream",
     "text": [
      "Flower\n",
      "Dog\n"
     ]
    }
   ],
   "source": [
    "# using negative value to index from the last element\n",
    "#\n",
    "# Example: words[-1]\n",
    "print(words[-1]) # output: \"Flower\" because it is the last element\n",
    "print(words[-3]) # output: \"Dog\" because it is the third element from the back"
   ]
  },
  {
   "cell_type": "markdown",
   "metadata": {},
   "source": [
    "### List functions/methods"
   ]
  },
  {
   "cell_type": "markdown",
   "metadata": {},
   "source": [
    "##### There are built-in functions for lists, list of built-in functions: https://www.w3schools.com/python/python_ref_list.asp"
   ]
  },
  {
   "cell_type": "markdown",
   "metadata": {},
   "source": [
    "##### append: Adds an element at the end of the list"
   ]
  },
  {
   "cell_type": "code",
   "execution_count": 5,
   "metadata": {},
   "outputs": [
    {
     "data": {
      "text/plain": [
       "'Brave'"
      ]
     },
     "execution_count": 5,
     "metadata": {},
     "output_type": "execute_result"
    }
   ],
   "source": [
    "# append function is to add value to the end of the list\n",
    "#                    [0]                [1]                [2]\n",
    "web_browsers = [\"Google Chrome\", \"Mozilla Firefox\", \"Microsoft Edge\"]\n",
    "\n",
    "# this will add \"Brave\" as the 3rd index of the list\n",
    "web_browsers.append(\"Brave\")\n",
    "\n",
    "web_browsers[3] # output: \"Brave\""
   ]
  },
  {
   "cell_type": "markdown",
   "metadata": {},
   "source": [
    "##### insert: Adds an element at specified position"
   ]
  },
  {
   "cell_type": "code",
   "execution_count": 6,
   "metadata": {},
   "outputs": [
    {
     "data": {
      "text/plain": [
       "['Google Chrome',\n",
       " 'Internet Explorer',\n",
       " 'Mozilla Firefox',\n",
       " 'Microsoft Edge',\n",
       " 'Brave']"
      ]
     },
     "execution_count": 6,
     "metadata": {},
     "output_type": "execute_result"
    }
   ],
   "source": [
    "# insert function need 2 argument\n",
    "# the first argument is an integer type, which specify the position the value is going to be inserted\n",
    "# the second argument is any type, it is the value going to be inserted\n",
    "#\n",
    "# Example:\n",
    "web_browsers.insert(1, \"Internet Explorer\") # insert \"Interner Explorer\" to index 1\n",
    "\n",
    "#                          [0]                [1]                 [2]                [3]          [4]\n",
    "# it should output: [\"Google Chrome\", \"Internet Explorer\", \"Mozilla Firefox\", \"Microsoft Edge\", \"Brave\"]\n",
    "\n",
    "web_browsers"
   ]
  },
  {
   "cell_type": "markdown",
   "metadata": {},
   "source": [
    "##### pop: removes the element at the specified position"
   ]
  },
  {
   "cell_type": "code",
   "execution_count": 7,
   "metadata": {},
   "outputs": [
    {
     "name": "stdout",
     "output_type": "stream",
     "text": [
      "['Google Chrome', 'Internet Explorer', 'Mozilla Firefox', 'Microsoft Edge']\n",
      "['Google Chrome', 'Mozilla Firefox', 'Microsoft Edge']\n"
     ]
    }
   ],
   "source": [
    "# pop function takes 1 integer as argument, which specify the position the value is going to be removed\n",
    "# if argument is not provided the default value is the last element of the list\n",
    "\n",
    "#                      [0]                [1]                 [2]                [3]          [4]\n",
    "# web_browers = [\"Google Chrome\", \"Internet Explorer\", \"Mozilla Firefox\", \"Microsoft Edge\", \"Brave\"]\n",
    "web_browsers.pop() # this should removes the last element which is \"Brave\"\n",
    "\n",
    "print(web_browsers)\n",
    "\n",
    "web_browsers.pop(1) # this should removes \"Internet Explorer\", because Internet Explorer is in index 1\n",
    "\n",
    "print(web_browsers)"
   ]
  },
  {
   "cell_type": "markdown",
   "metadata": {},
   "source": [
    "##### pop function also returns the element it removes"
   ]
  },
  {
   "cell_type": "code",
   "execution_count": 8,
   "metadata": {},
   "outputs": [
    {
     "name": "stdout",
     "output_type": "stream",
     "text": [
      "Google Chrome\n",
      "['Mozilla Firefox', 'Microsoft Edge']\n"
     ]
    }
   ],
   "source": [
    "# although it is removed from the list, if you assign it to a variable, the removed element is going to be stored in the variable\n",
    "google_chrome = web_browsers.pop(0)\n",
    "\n",
    "print(google_chrome)\n",
    "\n",
    "#                       [0]                 [1]\n",
    "# web_browers = [\"Mozilla Firefox\", \"Microsoft Edge\"]\n",
    "print(web_browsers)"
   ]
  },
  {
   "cell_type": "markdown",
   "metadata": {},
   "source": [
    "##### removes: Removes the first item with the specified value"
   ]
  },
  {
   "cell_type": "code",
   "execution_count": 9,
   "metadata": {},
   "outputs": [
    {
     "data": {
      "text/plain": [
       "['Jane', 'Alice', 'Bob', 'John']"
      ]
     },
     "execution_count": 9,
     "metadata": {},
     "output_type": "execute_result"
    }
   ],
   "source": [
    "# there are 2 John in the list\n",
    "names = [\"John\", \"Jane\", \"Alice\", \"Bob\", \"John\"]\n",
    "\n",
    "names.remove(\"John\") # this will only remove the first John from the list\n",
    "\n",
    "names # This should output [\"Jane\", \"Alice\", \"Bob\", \"John\"]\n"
   ]
  },
  {
   "cell_type": "markdown",
   "metadata": {},
   "source": [
    "##### extend: Add the lements of a list (or any iterable), to the end of the current list"
   ]
  },
  {
   "cell_type": "code",
   "execution_count": 10,
   "metadata": {},
   "outputs": [
    {
     "data": {
      "text/plain": [
       "['Business Studies',\n",
       " 'Economics',\n",
       " 'Accounting',\n",
       " 'Physics',\n",
       " 'Biology',\n",
       " 'Chemistry']"
      ]
     },
     "execution_count": 10,
     "metadata": {},
     "output_type": "execute_result"
    }
   ],
   "source": [
    "subjects = [\"Business Studies\", \"Economics\", \"Accounting\"]\n",
    "other_subjects = [\"Physics\", \"Biology\", \"Chemistry\"]\n",
    "\n",
    "# This adds other_subjects to subjects\n",
    "subjects.extend(other_subjects)\n",
    "\n",
    "subjects # This should output [\"Business Studies\", \"Economics\", \"Accounting\", \"Physics\", \"Biology\", \"Chemistry\"]"
   ]
  },
  {
   "cell_type": "markdown",
   "metadata": {},
   "source": [
    "##### sort: Sorts the list"
   ]
  },
  {
   "cell_type": "code",
   "execution_count": 11,
   "metadata": {},
   "outputs": [
    {
     "name": "stdout",
     "output_type": "stream",
     "text": [
      "['Apple', 'Ball', 'Cat', 'Dog', 'Elephant', 'Fish']\n",
      "[10, 5, 4, 3, 2, 1]\n"
     ]
    }
   ],
   "source": [
    "words = [\"Apple\", \"Ball\", \"Dog\", \"Cat\", \"Fish\", \"Elephant\"]\n",
    "numbers = [10, 2, 5, 3, 1, 4]\n",
    "\n",
    "words.sort() # By default reverse is set to False\n",
    "numbers.sort(reverse=True) # you can put optional argument reverse=True to sort the number from largest to smallest\n",
    "\n",
    "print(words) # This should output words in alphabetical order\n",
    "print(numbers) # This should output numbers from largest to smallest"
   ]
  },
  {
   "cell_type": "markdown",
   "metadata": {},
   "source": [
    "##### reverse: Reverse the order of the list"
   ]
  },
  {
   "cell_type": "code",
   "execution_count": 12,
   "metadata": {},
   "outputs": [
    {
     "data": {
      "text/plain": [
       "['Hard Drive',\n",
       " 'Power Supply',\n",
       " 'Cooler',\n",
       " 'Graphics Card',\n",
       " 'RAM',\n",
       " 'CPU',\n",
       " 'Mother Board']"
      ]
     },
     "execution_count": 12,
     "metadata": {},
     "output_type": "execute_result"
    }
   ],
   "source": [
    "# unlike sort reverse doesn't sort the list, it just reverse the order\n",
    "pc_part = [\"Mother Board\", \"CPU\", \"RAM\", \"Graphics Card\", \"Cooler\", \"Power Supply\", \"Hard Drive\"]\n",
    "\n",
    "pc_part.reverse()\n",
    "\n",
    "pc_part # This should output [\"Hard Drive\", \"Power Supply\", \"Cooler\", \"Graphics Card\", \"RAM\", \"CPU\", \"Mother Board\"]"
   ]
  },
  {
   "cell_type": "markdown",
   "metadata": {},
   "source": [
    "##### copy: it copies the original list"
   ]
  },
  {
   "cell_type": "code",
   "execution_count": 13,
   "metadata": {},
   "outputs": [
    {
     "name": "stdout",
     "output_type": "stream",
     "text": [
      "Before changing the value\n",
      "a = 8, b = 8\n",
      "After changing the value\n",
      "a = 8, b = 7\n"
     ]
    }
   ],
   "source": [
    "# Because of list uses different type memory in your computer\n",
    "# you don't have to know this, but if you are curious here is a link: https://www.geeksforgeeks.org/how-are-variables-stored-in-python-stack-or-heap/\n",
    "\n",
    "# basically, if you are using primitive types such as strings, integers, float, boolean (some might argue that string is not a primitive type)\n",
    "# if you assign variable of primitive type to another variable, and change the value of one of the variable it won't change the other value\n",
    "\n",
    "# Example:\n",
    "a = 8 # integer type\n",
    "b = a\n",
    "print(\"Before changing the value\")\n",
    "print(f\"a = {a}, b = {b}\")\n",
    "\n",
    "b = 7\n",
    "print(\"After changing the value\")\n",
    "print(f\"a = {a}, b = {b}\")"
   ]
  },
  {
   "cell_type": "code",
   "execution_count": 14,
   "metadata": {},
   "outputs": [
    {
     "name": "stdout",
     "output_type": "stream",
     "text": [
      "Before changing the value\n",
      "subjects: ['Algorithm and Programming', 'Discrete Mathematics', 'Scientific Computing', 'Human and Computer Interface', 'Program Design Methods', 'Character Building: Pancasila']\n",
      "subjects2: ['Algorithm and Programming', 'Discrete Mathematics', 'Scientific Computing', 'Human and Computer Interface', 'Program Design Methods', 'Character Building: Pancasila']\n",
      "After changing the value\n",
      "subjects: ['Python class', 'Discrete Mathematics', 'Scientific Computing', 'Human and Computer Interface', 'Program Design Methods', 'Character Building: Pancasila']\n",
      "subjects2: ['Python class', 'Discrete Mathematics', 'Scientific Computing', 'Human and Computer Interface', 'Program Design Methods', 'Character Building: Pancasila']\n"
     ]
    }
   ],
   "source": [
    "# But it is not the case when using list\n",
    "\n",
    "# Example\n",
    "#                      [0]                       [1]                       [2]                       [3]                           [4]                           [5]\n",
    "subjects = [\"Algorithm and Programming\", \"Discrete Mathematics\", \"Scientific Computing\", \"Human and Computer Interface\", \"Program Design Methods\", \"Character Building: Pancasila\"]\n",
    "subjects2 = subjects\n",
    "\n",
    "print(\"Before changing the value\")\n",
    "print(f\"subjects: {subjects}\")\n",
    "print(f\"subjects2: {subjects2}\")\n",
    "\n",
    "subjects2[0] = \"Python class\"\n",
    "\n",
    "print(\"After changing the value\")\n",
    "print(f\"subjects: {subjects}\")\n",
    "print(f\"subjects2: {subjects2}\")"
   ]
  },
  {
   "cell_type": "code",
   "execution_count": 15,
   "metadata": {},
   "outputs": [
    {
     "name": "stdout",
     "output_type": "stream",
     "text": [
      "Before changing the value\n",
      "subjects: ['Python class', 'Discrete Mathematics', 'Scientific Computing', 'Human and Computer Interface', 'Program Design Methods', 'Character Building: Pancasila']\n",
      "subjects2: ['Python class', 'Discrete Mathematics', 'Scientific Computing', 'Human and Computer Interface', 'Program Design Methods', 'Character Building: Pancasila']\n",
      "After changing the value\n",
      "subjects: ['Algorithm and Programming', 'Discrete Mathematics', 'Scientific Computing', 'Human and Computer Interface', 'Program Design Methods', 'Character Building: Pancasila']\n",
      "subjects2: ['Python class', 'Discrete Mathematics', 'Scientific Computing', 'Human and Computer Interface', 'Program Design Methods', 'Character Building: Pancasila']\n"
     ]
    }
   ],
   "source": [
    "# To avoid that we use copy function\n",
    "\n",
    "subjects2 = subjects.copy()\n",
    "\n",
    "print(\"Before changing the value\")\n",
    "print(f\"subjects: {subjects}\")\n",
    "print(f\"subjects2: {subjects2}\")\n",
    "\n",
    "subjects[0] = \"Algorithm and Programming\"\n",
    "\n",
    "print(\"After changing the value\")\n",
    "print(f\"subjects: {subjects}\")\n",
    "print(f\"subjects2: {subjects2}\")"
   ]
  },
  {
   "cell_type": "markdown",
   "metadata": {},
   "source": [
    "### Loops"
   ]
  },
  {
   "cell_type": "markdown",
   "metadata": {},
   "source": [
    "##### For Loops"
   ]
  },
  {
   "cell_type": "code",
   "execution_count": 16,
   "metadata": {},
   "outputs": [
    {
     "name": "stdout",
     "output_type": "stream",
     "text": [
      "0\n",
      "1\n",
      "2\n",
      "3\n",
      "4\n",
      "5\n",
      "6\n",
      "7\n",
      "8\n",
      "9\n"
     ]
    }
   ],
   "source": [
    "# range function require at least one argument, but it can take up to 3 argument\n",
    "# if you only provide 1 argument, i == 0 to (the argument you gave)\n",
    "#\n",
    "# Example:\n",
    "for i in range(10):\n",
    "    print(i)"
   ]
  },
  {
   "cell_type": "code",
   "execution_count": 17,
   "metadata": {},
   "outputs": [
    {
     "name": "stdout",
     "output_type": "stream",
     "text": [
      "1\n",
      "2\n",
      "3\n",
      "4\n",
      "5\n",
      "6\n",
      "7\n",
      "8\n",
      "9\n"
     ]
    }
   ],
   "source": [
    "# if you provide 2 argument\n",
    "# i == (the first argument) to (second argument - 1)\n",
    "# \n",
    "# Example:\n",
    "for i in range(1, 10):\n",
    "    print(i)"
   ]
  },
  {
   "cell_type": "code",
   "execution_count": 18,
   "metadata": {},
   "outputs": [
    {
     "name": "stdout",
     "output_type": "stream",
     "text": [
      "1\n",
      "3\n",
      "5\n",
      "7\n",
      "9\n"
     ]
    }
   ],
   "source": [
    "# if you provide three argument\n",
    "# i == (the first argument) to (second argument - 1) but increment by (third argument)\n",
    "#\n",
    "# NOTE: if you provide three argument, make sure it can increment (i) can increment by (third argument) until it is equal to the (second argument)\n",
    "#       Otherwise the loops won't end, and result in error\n",
    "#\n",
    "# Example:\n",
    "for i in range(1, 11, 2):\n",
    "    print(i)"
   ]
  },
  {
   "cell_type": "code",
   "execution_count": 19,
   "metadata": {},
   "outputs": [
    {
     "name": "stdout",
     "output_type": "stream",
     "text": [
      "10\n",
      "9\n",
      "8\n",
      "7\n",
      "6\n",
      "5\n",
      "4\n",
      "3\n",
      "2\n",
      "1\n"
     ]
    }
   ],
   "source": [
    "# you can also loops through from bigger number to smaller number\n",
    "# \n",
    "# Example:\n",
    "for i in range(10, 0, -1):\n",
    "    print(i)"
   ]
  },
  {
   "cell_type": "code",
   "execution_count": 20,
   "metadata": {},
   "outputs": [
    {
     "name": "stdout",
     "output_type": "stream",
     "text": [
      "Today's topic is List\n",
      "Today's topic is Loops\n",
      "Today's topic is Conditional\n"
     ]
    }
   ],
   "source": [
    "# you can also iterate list using for loops\n",
    "#\n",
    "# Example:\n",
    "topics = [\"List\", \"Loops\", \"Conditional\"]\n",
    "\n",
    "for topic in topics:\n",
    "    print(f\"Today's topic is {topic}\")"
   ]
  },
  {
   "cell_type": "markdown",
   "metadata": {},
   "source": [
    "### While Loops"
   ]
  },
  {
   "cell_type": "code",
   "execution_count": 21,
   "metadata": {},
   "outputs": [
    {
     "name": "stdout",
     "output_type": "stream",
     "text": [
      "0\n",
      "1\n",
      "2\n",
      "3\n",
      "4\n",
      "5\n",
      "6\n",
      "7\n",
      "8\n",
      "9\n"
     ]
    }
   ],
   "source": [
    "# while loops, loops until the value is false\n",
    "# Example\n",
    "\n",
    "i = 0\n",
    "\n",
    "while i < 10: # The loop stop when i == 10\n",
    "    print(i)\n",
    "    i += 1"
   ]
  },
  {
   "cell_type": "markdown",
   "metadata": {},
   "source": [
    "### Conditional: if statements"
   ]
  },
  {
   "cell_type": "code",
   "execution_count": 22,
   "metadata": {},
   "outputs": [
    {
     "name": "stdout",
     "output_type": "stream",
     "text": [
      "n is greater than 1\n"
     ]
    }
   ],
   "source": [
    "# if statements checks from top to bottom\n",
    "#\n",
    "# Example\n",
    "\n",
    "n = 5\n",
    "\n",
    "if n > 1: # this should be true\n",
    "    print(\"n is greater than 1\") # this is the one it will be executed, because it is on top\n",
    "elif n == 5: # this should also be true\n",
    "    print(\"n is equal to 5\")"
   ]
  },
  {
   "cell_type": "code",
   "execution_count": 23,
   "metadata": {},
   "outputs": [
    {
     "name": "stdout",
     "output_type": "stream",
     "text": [
      "n is greater than 1\n",
      "n is equal to 5\n"
     ]
    }
   ],
   "source": [
    "# if you want to execute both, you can omit the elif, but instead use 2 if\n",
    "\n",
    "if n > 1: # this should be true\n",
    "    print(\"n is greater than 1\")\n",
    "\n",
    "if n == 5: # this should also be true\n",
    "    print(\"n is equal to 5\")\n",
    "\n",
    "# Now both are executed"
   ]
  },
  {
   "cell_type": "code",
   "execution_count": 24,
   "metadata": {},
   "outputs": [
    {
     "name": "stdout",
     "output_type": "stream",
     "text": [
      "True\n",
      "False\n"
     ]
    }
   ],
   "source": [
    "# python provide in operator to check if value is in a collection of value\n",
    "#\n",
    "# Example:\n",
    "\n",
    "employees = [\"John\", \"Jane\", \"Jack\", \"Ashley\"]\n",
    "\n",
    "print(\"John\" in employees) # output True, since John is in employees\n",
    "print(\"Daniel\" in employees) # output False, since Daniel is not in employees\n"
   ]
  },
  {
   "cell_type": "markdown",
   "metadata": {},
   "source": [
    "### Thank you for reading"
   ]
  }
 ],
 "metadata": {
  "kernelspec": {
   "display_name": "Python 3.10.8 64-bit",
   "language": "python",
   "name": "python3"
  },
  "language_info": {
   "codemirror_mode": {
    "name": "ipython",
    "version": 3
   },
   "file_extension": ".py",
   "mimetype": "text/x-python",
   "name": "python",
   "nbconvert_exporter": "python",
   "pygments_lexer": "ipython3",
   "version": "3.10.8"
  },
  "orig_nbformat": 4,
  "vscode": {
   "interpreter": {
    "hash": "369f2c481f4da34e4445cda3fffd2e751bd1c4d706f27375911949ba6bb62e1c"
   }
  }
 },
 "nbformat": 4,
 "nbformat_minor": 2
}
